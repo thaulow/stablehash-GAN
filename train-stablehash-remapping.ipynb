# Install needed python modules
!pip install click | grep -v 'already satisfied'
!pip install numpy | grep -v 'already satisfied'
!pip install requests | grep -v 'already satisfied'
!pip install Pillow | grep -v 'already satisfied'
!pip install torch torchvision torchaudio | grep -v 'already satisfied'
!pip install pandas | grep -v 'already satisfied'
!pip install scipy | grep -v 'already satisfied'
print("All dependencies installed")
