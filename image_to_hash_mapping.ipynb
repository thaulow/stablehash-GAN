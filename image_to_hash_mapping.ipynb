{
 "cells": [
  {
   "cell_type": "code",
   "execution_count": 43,
   "id": "07a0323e",
   "metadata": {},
   "outputs": [
    {
     "name": "stdout",
     "output_type": "stream",
     "text": [
      "Output file generated\n"
     ]
    }
   ],
   "source": [
    "import os\n",
    "import ast\n",
    "\n",
    "image_folder = '/volumes/1/subjects/'\n",
    "stablehash_folder =  '/home/ubuntu/trainingfiles/frgc_centers_converted/'\n",
    "mapping_file =  '/home/ubuntu/trainingfiles/frgc_results_cluster_id_to_subjects.txt'\n",
    "output_file =  '/home/ubuntu/stablehash-reconstruct/training_data-100percent.csv'\n",
    "\n",
    "cluster_list = []\n",
    "\n",
    "o = open(output_file, \"w\")\n",
    "o.write(\"img_dir;stablehash_dir\\n\")\n",
    "\n",
    "mapping_file = open(mapping_file, \"r\")\n",
    "clusters = mapping_file.readlines()\n",
    "count = 0\n",
    "\n",
    "for line in clusters:\n",
    "    img_var = 0\n",
    "    if count > 1:\n",
    "        #Get the first variable and removes spaces and whitespaces.\n",
    "        x = line.strip().replace(\" \",\"\").split(\":\")\n",
    "        stablehash_var = x[0]  \n",
    "        y = ast.literal_eval(x[1])\n",
    "        cluster_list.append([stablehash_var, y])\n",
    "    count += 1\n",
    "\n",
    "for path in os.scandir(image_folder):\n",
    "    if path.is_file():\n",
    "        for cluster_data in cluster_list:\n",
    "            for image_id in cluster_data[1]:\n",
    "                if image_id in path.name: # and int(cluster_data[0]) < 20:\n",
    "                    o.write(image_folder+path.name+\";\"+stablehash_folder+'frgc_cluster_'+cluster_data[0]+\".npy\\n\")\n",
    "                    \n",
    "print(\"Output file generated\")"
   ]
  },
  {
   "cell_type": "code",
   "execution_count": null,
   "id": "3c099dae",
   "metadata": {},
   "outputs": [],
   "source": []
  },
  {
   "cell_type": "code",
   "execution_count": null,
   "id": "4aebe141",
   "metadata": {},
   "outputs": [],
   "source": []
  }
 ],
 "metadata": {
  "kernelspec": {
   "display_name": "Python 3 (ipykernel)",
   "language": "python",
   "name": "python3"
  },
  "language_info": {
   "codemirror_mode": {
    "name": "ipython",
    "version": 3
   },
   "file_extension": ".py",
   "mimetype": "text/x-python",
   "name": "python",
   "nbconvert_exporter": "python",
   "pygments_lexer": "ipython3",
   "version": "3.8.10"
  }
 },
 "nbformat": 4,
 "nbformat_minor": 5
}
