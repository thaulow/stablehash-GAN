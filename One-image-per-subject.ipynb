{
 "cells": [
  {
   "cell_type": "code",
   "execution_count": 3,
   "id": "1a157899",
   "metadata": {},
   "outputs": [],
   "source": [
    "import os\n",
    "import shutil\n",
    "\n",
    "# Define the source and destination directories\n",
    "src_dir = '/volumes/1/aligned/'\n",
    "dest_dir = '/volumes/1/subjects/'\n",
    "\n",
    "# Get a list of all the image files in the source directory\n",
    "image_files = os.listdir(src_dir)\n",
    "\n",
    "# Initialize a dictionary to keep track of which image to copy for each subject\n",
    "subject_images = {}\n",
    "\n",
    "# Iterate over all the image files and populate the subject_images dictionary\n",
    "for image_file in image_files:\n",
    "    subject_id = image_file[:5]\n",
    "    if subject_id not in subject_images:\n",
    "        subject_images[subject_id] = image_file\n",
    "\n",
    "# Create the destination directory if it doesn't already exist\n",
    "if not os.path.exists(dest_dir):\n",
    "    os.makedirs(dest_dir)\n",
    "\n",
    "# Copy the selected image for each subject to the destination directory\n",
    "for subject_id, image_file in subject_images.items():\n",
    "    src_path = os.path.join(src_dir, image_file)\n",
    "    dest_path = os.path.join(dest_dir, image_file)\n",
    "    shutil.copy(src_path, dest_path)\n"
   ]
  },
  {
   "cell_type": "code",
   "execution_count": null,
   "id": "5c155188",
   "metadata": {},
   "outputs": [],
   "source": []
  }
 ],
 "metadata": {
  "kernelspec": {
   "display_name": "Python 3 (ipykernel)",
   "language": "python",
   "name": "python3"
  },
  "language_info": {
   "codemirror_mode": {
    "name": "ipython",
    "version": 3
   },
   "file_extension": ".py",
   "mimetype": "text/x-python",
   "name": "python",
   "nbconvert_exporter": "python",
   "pygments_lexer": "ipython3",
   "version": "3.8.10"
  }
 },
 "nbformat": 4,
 "nbformat_minor": 5
}
